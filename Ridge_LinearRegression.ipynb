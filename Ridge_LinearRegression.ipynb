{
 "cells": [
  {
   "cell_type": "code",
   "execution_count": 298,
   "metadata": {},
   "outputs": [],
   "source": [
    "import numpy as np\n",
    "import matplotlib.pyplot as plt"
   ]
  },
  {
   "cell_type": "code",
   "execution_count": 299,
   "metadata": {},
   "outputs": [],
   "source": [
    "x1 = np.random.rand(100)\n",
    "y = 2*x1 + 69 + np.random.rand(100)\n",
    "y[1] = 50\n",
    "y[2] = 50\n"
   ]
  },
  {
   "cell_type": "code",
   "execution_count": 300,
   "metadata": {},
   "outputs": [
    {
     "data": {
      "image/png": "[encoded data removed]",
      "text/plain": [
       "<Figure size 432x288 with 1 Axes>"
      ]
     },
     "metadata": {
      "needs_background": "light"
     },
     "output_type": "display_data"
    }
   ],
   "source": [
    "plt.plot(x1, y, 'o')\n",
    "plt.show()"
   ]
  },
  {
   "cell_type": "code",
   "execution_count": 301,
   "metadata": {},
   "outputs": [],
   "source": [
    "x = x1.reshape((-1,1))\n",
    "y_train = y.reshape((-1,1))"
   ]
  },
  {
   "cell_type": "code",
   "execution_count": 302,
   "metadata": {},
   "outputs": [],
   "source": [
    "def weight_init(shape):\n",
    "    w = np.random.rand(shape[1],1)\n",
    "    return w"
   ]
  },
  {
   "cell_type": "code",
   "execution_count": 303,
   "metadata": {},
   "outputs": [],
   "source": [
    "def update_weight(x,y,w, theta,alpha):\n",
    "    dw = x.T.dot(x.dot(w) - y)/x.shape[0] - alpha*np.sum(w)\n",
    "    w = w - theta*dw\n",
    "    return w"
   ]
  },
  {
   "cell_type": "code",
   "execution_count": 304,
   "metadata": {},
   "outputs": [],
   "source": [
    "def loss(x,y,w):\n",
    "    return np.linalg.norm(y - x.dot(w), 2)/x.shape[0]"
   ]
  },
  {
   "cell_type": "code",
   "execution_count": 305,
   "metadata": {},
   "outputs": [],
   "source": [
    "def training(x,y,theta = 1,epochs = 100, alpha = 0.01):\n",
    "    ones = np.ones((x.shape[0],1))\n",
    "    x = np.concatenate((ones, x), axis = 1)\n",
    "    w = weight_init(x.shape)\n",
    "    for epoch in range(epochs):\n",
    "        print(\"Training epoch: \" + str(epoch+1))\n",
    "        print(\"Loss: \" +str(loss(x,y,w)))\n",
    "        w = update_weight(x,y,w,theta,alpha)\n",
    "    return w"
   ]
  },
  {
   "cell_type": "code",
   "execution_count": 306,
   "metadata": {},
   "outputs": [
    {
     "name": "stdout",
     "output_type": "stream",
     "text": [
      "Training epoch: 1\n",
      "Loss: 6.915092471547625\n",
      "Training epoch: 2\n",
      "Loss: 2.0508228632558687\n",
      "Training epoch: 3\n",
      "Loss: 0.9252313131375299\n",
      "Training epoch: 4\n",
      "Loss: 0.7420717279611181\n",
      "Training epoch: 5\n",
      "Loss: 0.6919440034447492\n",
      "Training epoch: 6\n",
      "Loss: 0.6563646852513877\n",
      "Training epoch: 7\n",
      "Loss: 0.6241549756333666\n",
      "Training epoch: 8\n",
      "Loss: 0.594433105187942\n",
      "Training epoch: 9\n",
      "Loss: 0.5669594498650296\n",
      "Training epoch: 10\n",
      "Loss: 0.5416062113976746\n",
      "Training epoch: 11\n",
      "Loss: 0.5182444355295519\n",
      "Training epoch: 12\n",
      "Loss: 0.4967546715305483\n",
      "Training epoch: 13\n",
      "Loss: 0.477021626106209\n",
      "Training epoch: 14\n",
      "Loss: 0.458935005942898\n",
      "Training epoch: 15\n",
      "Loss: 0.4423888149333122\n",
      "Training epoch: 16\n",
      "Loss: 0.42728120211452497\n",
      "Training epoch: 17\n",
      "Loss: 0.41351425256262403\n",
      "Training epoch: 18\n",
      "Loss: 0.40099388713493894\n",
      "Training epoch: 19\n",
      "Loss: 0.38962981364685867\n",
      "Training epoch: 20\n",
      "Loss: 0.3793355319092689\n",
      "Training epoch: 21\n",
      "Loss: 0.37002837537186556\n",
      "Training epoch: 22\n",
      "Loss: 0.36162957611369456\n",
      "Training epoch: 23\n",
      "Loss: 0.35406433853949765\n",
      "Training epoch: 24\n",
      "Loss: 0.34726190858147954\n",
      "Training epoch: 25\n",
      "Loss: 0.3411556269870267\n",
      "Training epoch: 26\n",
      "Loss: 0.33568295780146806\n",
      "Training epoch: 27\n",
      "Loss: 0.3307854859567047\n",
      "Training epoch: 28\n",
      "Loss: 0.32640888071593754\n",
      "Training epoch: 29\n",
      "Loss: 0.32250282434134014\n",
      "Training epoch: 30\n",
      "Loss: 0.31902090756957874\n",
      "Training epoch: 31\n",
      "Loss: 0.3159204951938358\n",
      "Training epoch: 32\n",
      "Loss: 0.3131625662278025\n",
      "Training epoch: 33\n",
      "Loss: 0.31071153379227207\n",
      "Training epoch: 34\n",
      "Loss: 0.30853505008467946\n",
      "Training epoch: 35\n",
      "Loss: 0.306603801655125\n",
      "Training epoch: 36\n",
      "Loss: 0.3048912998150486\n",
      "Training epoch: 37\n",
      "Loss: 0.30337367043816676\n",
      "Training epoch: 38\n",
      "Loss: 0.3020294467568032\n",
      "Training epoch: 39\n",
      "Loss: 0.3008393680738325\n",
      "Training epoch: 40\n",
      "Loss: 0.2997861866481386\n",
      "Training epoch: 41\n",
      "Loss: 0.29885448440144524\n",
      "Training epoch: 42\n",
      "Loss: 0.2980305005553886\n",
      "Training epoch: 43\n",
      "Loss: 0.29730197084828885\n",
      "Training epoch: 44\n",
      "Loss: 0.29665797860229054\n",
      "Training epoch: 45\n",
      "Loss: 0.2960888176093175\n",
      "Training epoch: 46\n",
      "Loss: 0.2955858665714729\n",
      "Training epoch: 47\n",
      "Loss: 0.29514147465932844\n",
      "Training epoch: 48\n",
      "Loss: 0.29474885763074177\n",
      "Training epoch: 49\n",
      "Loss: 0.29440200387438076\n",
      "Training epoch: 50\n",
      "Loss: 0.29409558969769556\n",
      "Training epoch: 51\n",
      "Loss: 0.29382490316126836\n",
      "Training epoch: 52\n",
      "Loss: 0.29358577576394046\n",
      "Training epoch: 53\n",
      "Loss: 0.29337452130051833\n",
      "Training epoch: 54\n",
      "Loss: 0.2931878812418591\n",
      "Training epoch: 55\n",
      "Loss: 0.29302297602219485\n",
      "Training epoch: 56\n",
      "Loss: 0.29287726165794586\n",
      "Training epoch: 57\n",
      "Loss: 0.29274849116385954\n",
      "Training epoch: 58\n",
      "Loss: 0.2926346802745034\n",
      "Training epoch: 59\n",
      "Loss: 0.2925340770207635\n",
      "Training epoch: 60\n",
      "Loss: 0.2924451347512347\n",
      "Training epoch: 61\n",
      "Loss: 0.2923664882266589\n",
      "Training epoch: 62\n",
      "Loss: 0.29229693245154265\n",
      "Training epoch: 63\n",
      "Loss: 0.29223540394054826\n",
      "Training epoch: 64\n",
      "Loss: 0.29218096414814365\n",
      "Training epoch: 65\n",
      "Loss: 0.2921327848183137\n",
      "Training epoch: 66\n",
      "Loss: 0.2920901350369544\n",
      "Training epoch: 67\n",
      "Loss: 0.2920523697930001\n",
      "Training epoch: 68\n",
      "Loss: 0.2920189198755099\n",
      "Training epoch: 69\n",
      "Loss: 0.29198928295301063\n",
      "Training epoch: 70\n",
      "Loss: 0.2919630156985291\n",
      "Training epoch: 71\n",
      "Loss: 0.2919397268390953\n",
      "Training epoch: 72\n",
      "Loss: 0.2919190710222168\n",
      "Training epoch: 73\n",
      "Loss: 0.2919007434040729\n",
      "Training epoch: 74\n",
      "Loss: 0.2918844748750852\n",
      "Training epoch: 75\n",
      "Loss: 0.29187002784822547\n",
      "Training epoch: 76\n",
      "Loss: 0.2918571925440471\n",
      "Training epoch: 77\n",
      "Loss: 0.29184578371408093\n",
      "Training epoch: 78\n",
      "Loss: 0.2918356377510227\n",
      "Training epoch: 79\n",
      "Loss: 0.29182661014015865\n",
      "Training epoch: 80\n",
      "Loss: 0.2918185732117986\n",
      "Training epoch: 81\n",
      "Loss: 0.2918114141591986\n",
      "Training epoch: 82\n",
      "Loss: 0.29180503329062873\n",
      "Training epoch: 83\n",
      "Loss: 0.29179934248792117\n",
      "Training epoch: 84\n",
      "Loss: 0.2917942638470911\n",
      "Training epoch: 85\n",
      "Loss: 0.29178972847950563\n",
      "Training epoch: 86\n",
      "Loss: 0.29178567545460365\n",
      "Training epoch: 87\n",
      "Loss: 0.2917820508674267\n",
      "Training epoch: 88\n",
      "Loss: 0.29177880701618586\n",
      "Training epoch: 89\n",
      "Loss: 0.2917759016768486\n",
      "Training epoch: 90\n",
      "Loss: 0.2917732974632577\n",
      "Training epoch: 91\n",
      "Loss: 0.2917709612626668\n",
      "Training epoch: 92\n",
      "Loss: 0.29176886373776273\n",
      "Training epoch: 93\n",
      "Loss: 0.29176697888731\n",
      "Training epoch: 94\n",
      "Loss: 0.2917652836584853\n",
      "Training epoch: 95\n",
      "Loss: 0.2917637576047825\n",
      "Training epoch: 96\n",
      "Loss: 0.29176238258410675\n",
      "Training epoch: 97\n",
      "Loss: 0.2917611424923009\n",
      "Training epoch: 98\n",
      "Loss: 0.2917600230279228\n",
      "Training epoch: 99\n",
      "Loss: 0.2917590114845772\n",
      "Training epoch: 100\n",
      "Loss: 0.2917580965675548\n",
      "[[69.39802664]\n",
      " [ 1.36133049]]\n",
      "1.2667905378324913 69.44059926091178\n"
     ]
    }
   ],
   "source": [
    "w = training(x,y_train, alpha = 0.0001, epochs = 100)\n",
    "print(w)\n",
    "from sklearn.linear_model import LinearRegression\n",
    "model = LinearRegression()\n",
    "model.fit(x, y_train)\n",
    "weight, b = model.coef_[0][0], model.intercept_[0]\n",
    "print(weight,b)"
   ]
  },
  {
   "cell_type": "code",
   "execution_count": 307,
   "metadata": {},
   "outputs": [
    {
     "data": {
      "image/png": "[encoded data removed]",
      "text/plain": [
       "<Figure size 432x288 with 1 Axes>"
      ]
     },
     "metadata": {
      "needs_background": "light"
     },
     "output_type": "display_data"
    }
   ],
   "source": [
    "\n",
    "plt.plot(x1, y, 'o')\n",
    "x = np.linspace(0,1,100)\n",
    "y1 = w[1]*x+w[0]\n",
    "y2 = weight*x + b\n",
    "plt.plot(x, y1, '-r', label='scratch')\n",
    "plt.plot(x, y2, label = 'library')\n",
    "plt.show()"
   ]
  }
 ],
 "metadata": {
  "interpreter": {
   "hash": "b003d8754f68205f230b91d29752a0899194161977d5c87b83f80e078894fa96"
  },
  "kernelspec": {
   "display_name": "Python 3.9.5 64-bit ('base': conda)",
   "language": "python",
   "name": "python3"
  },
  "language_info": {
   "codemirror_mode": {
    "name": "ipython",
    "version": 3
   },
   "file_extension": ".py",
   "mimetype": "text/x-python",
   "name": "python",
   "nbconvert_exporter": "python",
   "pygments_lexer": "ipython3",
   "version": "3.9.5"
  },
  "orig_nbformat": 4
 },
 "nbformat": 4,
 "nbformat_minor": 2
}
