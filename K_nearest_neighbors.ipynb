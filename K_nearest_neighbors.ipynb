{
 "cells": [
  {
   "cell_type": "code",
   "execution_count": 362,
   "metadata": {},
   "outputs": [],
   "source": [
    "import numpy as np\n",
    "from sklearn import datasets\n",
    "from sklearn.model_selection import train_test_split"
   ]
  },
  {
   "cell_type": "code",
   "execution_count": 363,
   "metadata": {},
   "outputs": [
    {
     "name": "stdout",
     "output_type": "stream",
     "text": [
      "['sepal length (cm)', 'sepal width (cm)', 'petal length (cm)', 'petal width (cm)'] ['setosa' 'versicolor' 'virginica']\n",
      "(130, 4) (150,)\n"
     ]
    }
   ],
   "source": [
    "#test on Iris dataset\n",
    "\n",
    "iris = datasets.load_iris()\n",
    "print(iris.feature_names, iris.target_names)\n",
    "X = iris.data\n",
    "label = iris.target\n",
    "x_train, x_test, y_train,y_test = train_test_split(X, label, test_size=130)\n",
    "print(x_test.shape, label.shape)"
   ]
  },
  {
   "cell_type": "code",
   "execution_count": 364,
   "metadata": {},
   "outputs": [],
   "source": [
    "def distance_fast(z, X):\n",
    "    X2 = np.sum(X*X, 1)\n",
    "    distance =  X2.reshape((-1,1)) -2*X.dot(z.T)\n",
    "    return distance"
   ]
  },
  {
   "cell_type": "code",
   "execution_count": 365,
   "metadata": {},
   "outputs": [],
   "source": [
    "def predict(z, num_neighbors = 1):\n",
    "    distance = distance_fast(z, x_train)\n",
    "    print(distance.shape)\n",
    "    neighbor_i = distance.argsort(axis = 0)[:num_neighbors,:].T\n",
    "    neighbor = []\n",
    "    for i in neighbor_i:\n",
    "        n_nb = y_train[i].tolist()\n",
    "        neighbor.append(max(n_nb, key = n_nb.count))\n",
    "    \n",
    "    return neighbor"
   ]
  },
  {
   "cell_type": "code",
   "execution_count": 366,
   "metadata": {},
   "outputs": [],
   "source": [
    "def accuracy(y_pred, y_test):\n",
    "    N = len(y_pred)\n",
    "    d = (y_pred - y_test).tolist().count(0)\n",
    "    return d/N\n"
   ]
  },
  {
   "cell_type": "code",
   "execution_count": 367,
   "metadata": {},
   "outputs": [
    {
     "name": "stdout",
     "output_type": "stream",
     "text": [
      "(20, 130)\n",
      "0.9230769230769231\n"
     ]
    }
   ],
   "source": [
    "y_pred = predict(x_test, num_neighbors=4)\n",
    "print(accuracy(y_pred, y_test))"
   ]
  }
 ],
 "metadata": {
  "interpreter": {
   "hash": "b003d8754f68205f230b91d29752a0899194161977d5c87b83f80e078894fa96"
  },
  "kernelspec": {
   "display_name": "Python 3.9.5 64-bit ('base': conda)",
   "language": "python",
   "name": "python3"
  },
  "language_info": {
   "codemirror_mode": {
    "name": "ipython",
    "version": 3
   },
   "file_extension": ".py",
   "mimetype": "text/x-python",
   "name": "python",
   "nbconvert_exporter": "python",
   "pygments_lexer": "ipython3",
   "version": "3.9.5"
  },
  "orig_nbformat": 4
 },
 "nbformat": 4,
 "nbformat_minor": 2
}
