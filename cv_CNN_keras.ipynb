{
 "cells": [
  {
   "cell_type": "code",
   "execution_count": 70,
   "metadata": {},
   "outputs": [],
   "source": [
    "import numpy as np\n",
    "import matplotlib.pyplot as plt\n",
    "import tensorflow as tf\n",
    "import tensorflow.keras as keras\n",
    "import tensorflow.keras.layers as tfl\n",
    "import tensorflow.keras.datasets as datasets"
   ]
  },
  {
   "cell_type": "code",
   "execution_count": 71,
   "metadata": {},
   "outputs": [],
   "source": [
    "data = datasets.mnist.load_data()"
   ]
  },
  {
   "cell_type": "code",
   "execution_count": 72,
   "metadata": {},
   "outputs": [
    {
     "name": "stdout",
     "output_type": "stream",
     "text": [
      "(60000, 28, 28, 1) (60000, 10)\n"
     ]
    }
   ],
   "source": [
    "(x_train, y_train), (x_test, y_test) = data\n",
    "y_train = keras.utils.to_categorical(y_train, num_classes=10)\n",
    "y_test = keras.utils.to_categorical(y_test, num_classes=10)\n",
    "x_train = np.expand_dims(x_train,-1)/255\n",
    "x_test = np.expand_dims(x_test, -1)/255\n",
    "print(x_train.shape, y_train.shape)"
   ]
  },
  {
   "cell_type": "code",
   "execution_count": 73,
   "metadata": {},
   "outputs": [
    {
     "name": "stdout",
     "output_type": "stream",
     "text": [
      "Model: \"sequential_13\"\n",
      "_________________________________________________________________\n",
      "Layer (type)                 Output Shape              Param #   \n",
      "=================================================================\n",
      "conv2d_39 (Conv2D)           (None, 28, 28, 32)        320       \n",
      "_________________________________________________________________\n",
      "max_pooling2d_39 (MaxPooling (None, 14, 14, 32)        0         \n",
      "_________________________________________________________________\n",
      "conv2d_40 (Conv2D)           (None, 14, 14, 64)        18496     \n",
      "_________________________________________________________________\n",
      "max_pooling2d_40 (MaxPooling (None, 7, 7, 64)          0         \n",
      "_________________________________________________________________\n",
      "conv2d_41 (Conv2D)           (None, 7, 7, 128)         204928    \n",
      "_________________________________________________________________\n",
      "max_pooling2d_41 (MaxPooling (None, 3, 3, 128)         0         \n",
      "_________________________________________________________________\n",
      "flatten_13 (Flatten)         (None, 1152)              0         \n",
      "_________________________________________________________________\n",
      "dense_13 (Dense)             (None, 10)                11530     \n",
      "=================================================================\n",
      "Total params: 235,274\n",
      "Trainable params: 235,274\n",
      "Non-trainable params: 0\n",
      "_________________________________________________________________\n"
     ]
    }
   ],
   "source": [
    "def CNN(input_shape): \n",
    "    model = keras.Sequential([\n",
    "            keras.layers.InputLayer(input_shape),\n",
    "            tfl.Conv2D(32, 3, padding = 'same', activation='relu'),\n",
    "            tfl.MaxPool2D(2,2),\n",
    "            tfl.Conv2D(64, 3, padding='same', activation='relu'),\n",
    "            tfl.MaxPool2D(2, 2),\n",
    "            tfl.Conv2D(128, 5, padding='same', activation='relu'),\n",
    "            tfl.MaxPool2D(2,2),\n",
    "            tfl.Flatten(),\n",
    "            tfl.Dense(10, activation='sigmoid'),\n",
    "        ])\n",
    "    return model\n",
    "model = CNN(x_train[0].shape)\n",
    "model.summary()"
   ]
  },
  {
   "cell_type": "code",
   "execution_count": 75,
   "metadata": {},
   "outputs": [
    {
     "name": "stdout",
     "output_type": "stream",
     "text": [
      "Epoch 1/20\n",
      "422/422 [==============================] - 26s 59ms/step - loss: 0.0321 - accuracy: 0.9899 - val_loss: 0.0264 - val_accuracy: 0.9918\n",
      "Epoch 2/20\n",
      "422/422 [==============================] - 27s 64ms/step - loss: 0.0188 - accuracy: 0.9935 - val_loss: 0.0325 - val_accuracy: 0.9910\n",
      "Epoch 3/20\n",
      "422/422 [==============================] - 33s 78ms/step - loss: 0.0125 - accuracy: 0.9961 - val_loss: 0.0256 - val_accuracy: 0.9942\n",
      "Epoch 4/20\n",
      "422/422 [==============================] - 27s 64ms/step - loss: 0.0092 - accuracy: 0.9974 - val_loss: 0.0312 - val_accuracy: 0.9927\n",
      "Epoch 5/20\n",
      "422/422 [==============================] - 26s 62ms/step - loss: 0.0073 - accuracy: 0.9975 - val_loss: 0.0325 - val_accuracy: 0.9915\n",
      "Epoch 6/20\n",
      "422/422 [==============================] - 25s 59ms/step - loss: 0.0075 - accuracy: 0.9974 - val_loss: 0.0266 - val_accuracy: 0.9938\n",
      "Epoch 7/20\n",
      "422/422 [==============================] - 29s 69ms/step - loss: 0.0054 - accuracy: 0.9982 - val_loss: 0.0320 - val_accuracy: 0.9920\n",
      "Epoch 8/20\n",
      "422/422 [==============================] - 29s 69ms/step - loss: 0.0042 - accuracy: 0.9987 - val_loss: 0.0374 - val_accuracy: 0.9927\n",
      "Epoch 9/20\n",
      "422/422 [==============================] - 30s 71ms/step - loss: 0.0041 - accuracy: 0.9987 - val_loss: 0.0385 - val_accuracy: 0.9932\n",
      "Epoch 10/20\n",
      "422/422 [==============================] - 30s 71ms/step - loss: 0.0049 - accuracy: 0.9983 - val_loss: 0.0352 - val_accuracy: 0.9938\n",
      "Epoch 11/20\n",
      "422/422 [==============================] - 30s 72ms/step - loss: 0.0029 - accuracy: 0.9990 - val_loss: 0.0428 - val_accuracy: 0.9925\n",
      "Epoch 12/20\n",
      "422/422 [==============================] - 28s 66ms/step - loss: 0.0056 - accuracy: 0.9981 - val_loss: 0.0333 - val_accuracy: 0.9937\n",
      "Epoch 13/20\n",
      "422/422 [==============================] - 26s 62ms/step - loss: 0.0023 - accuracy: 0.9992 - val_loss: 0.0384 - val_accuracy: 0.9933\n",
      "Epoch 14/20\n",
      "422/422 [==============================] - 30s 71ms/step - loss: 0.0015 - accuracy: 0.9996 - val_loss: 0.0430 - val_accuracy: 0.9937\n",
      "Epoch 15/20\n",
      "422/422 [==============================] - 28s 67ms/step - loss: 0.0053 - accuracy: 0.9984 - val_loss: 0.0427 - val_accuracy: 0.9928\n",
      "Epoch 16/20\n",
      "422/422 [==============================] - 30s 70ms/step - loss: 0.0026 - accuracy: 0.9991 - val_loss: 0.0385 - val_accuracy: 0.9928\n",
      "Epoch 17/20\n",
      "422/422 [==============================] - 28s 67ms/step - loss: 4.3023e-04 - accuracy: 0.9999 - val_loss: 0.0444 - val_accuracy: 0.9937\n",
      "Epoch 18/20\n",
      "422/422 [==============================] - 28s 66ms/step - loss: 0.0017 - accuracy: 0.9995 - val_loss: 0.0372 - val_accuracy: 0.9933\n",
      "Epoch 19/20\n",
      "422/422 [==============================] - 28s 67ms/step - loss: 0.0056 - accuracy: 0.9981 - val_loss: 0.0393 - val_accuracy: 0.9918\n",
      "Epoch 20/20\n",
      "422/422 [==============================] - 28s 65ms/step - loss: 0.0025 - accuracy: 0.9992 - val_loss: 0.0458 - val_accuracy: 0.9925\n"
     ]
    },
    {
     "data": {
      "text/plain": [
       "<tensorflow.python.keras.callbacks.History at 0x278811c8e50>"
      ]
     },
     "execution_count": 75,
     "metadata": {},
     "output_type": "execute_result"
    }
   ],
   "source": [
    "batch_size = 128\n",
    "epochs = 20\n",
    "model.compile(optimizer = \"adam\", loss = 'categorical_crossentropy', metrics = 'accuracy')\n",
    "model.fit(x_train,y_train, batch_size = batch_size, epochs=epochs, validation_split=0.1)"
   ]
  },
  {
   "cell_type": "code",
   "execution_count": 76,
   "metadata": {},
   "outputs": [
    {
     "name": "stdout",
     "output_type": "stream",
     "text": [
      "313/313 [==============================] - 3s 8ms/step - loss: 0.0386 - accuracy: 0.9914\n",
      "test loss: 0.038550056517124176\n",
      "accuracy: 0.9914000034332275\n"
     ]
    }
   ],
   "source": [
    "score = model.evaluate(x_test,y_test)\n",
    "print('test loss:', score[0])\n",
    "print('accuracy:', score[1])"
   ]
  }
 ],
 "metadata": {
  "interpreter": {
   "hash": "b003d8754f68205f230b91d29752a0899194161977d5c87b83f80e078894fa96"
  },
  "kernelspec": {
   "display_name": "Python 3.9.5 64-bit ('base': conda)",
   "language": "python",
   "name": "python3"
  },
  "language_info": {
   "codemirror_mode": {
    "name": "ipython",
    "version": 3
   },
   "file_extension": ".py",
   "mimetype": "text/x-python",
   "name": "python",
   "nbconvert_exporter": "python",
   "pygments_lexer": "ipython3",
   "version": "3.9.5"
  },
  "orig_nbformat": 4
 },
 "nbformat": 4,
 "nbformat_minor": 2
}
